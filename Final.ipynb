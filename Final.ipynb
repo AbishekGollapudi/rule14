{
 "cells": [
  {
   "cell_type": "code",
   "execution_count": 44,
   "metadata": {},
   "outputs": [],
   "source": [
    "import pandas as pd\n",
    "import numpy as np\n",
    "import glob\n",
    "import re\n",
    "from bs4 import BeautifulSoup \n",
    "from nltk import tokenize\n",
    "from nltk.corpus import stopwords\n",
    "from sklearn.model_selection import train_test_split\n",
    "from sklearn.model_selection import GridSearchCV\n",
    "from sklearn.decomposition import TruncatedSVD\n",
    "from sklearn.pipeline import make_pipeline\n",
    "from sklearn.preprocessing import Normalizer\n",
    "from sklearn.neighbors import KNeighborsClassifier\n",
    "from sklearn.decomposition import NMF\n",
    "\n",
    "from sklearn.pipeline import Pipeline\n",
    "from sklearn.feature_extraction.text import CountVectorizer, TfidfTransformer, TfidfVectorizer\n",
    "from sklearn.linear_model import LogisticRegression, SGDClassifier\n",
    "from sklearn.neighbors import KNeighborsClassifier\n",
    "from sklearn.naive_bayes import MultinomialNB\n",
    "from sklearn.svm import SVC\n",
    "from sklearn.metrics import classification_report, accuracy_score\n",
    "\n",
    "import matplotlib.pyplot as plt"
   ]
  },
  {
   "cell_type": "code",
   "execution_count": 18,
   "metadata": {},
   "outputs": [],
   "source": [
    "tags_df = pd.read_csv('Interview_Mapping.csv')"
   ]
  },
  {
   "cell_type": "code",
   "execution_count": 19,
   "metadata": {},
   "outputs": [
    {
     "data": {
      "text/html": [
       "<div>\n",
       "<style scoped>\n",
       "    .dataframe tbody tr th:only-of-type {\n",
       "        vertical-align: middle;\n",
       "    }\n",
       "\n",
       "    .dataframe tbody tr th {\n",
       "        vertical-align: top;\n",
       "    }\n",
       "\n",
       "    .dataframe thead th {\n",
       "        text-align: right;\n",
       "    }\n",
       "</style>\n",
       "<table border=\"1\" class=\"dataframe\">\n",
       "  <thead>\n",
       "    <tr style=\"text-align: right;\">\n",
       "      <th></th>\n",
       "      <th>Judgements</th>\n",
       "      <th>Area.of.Law</th>\n",
       "    </tr>\n",
       "  </thead>\n",
       "  <tbody>\n",
       "    <tr>\n",
       "      <th>0</th>\n",
       "      <td>LNIND_1988_CAL_114</td>\n",
       "      <td>To be Tested</td>\n",
       "    </tr>\n",
       "    <tr>\n",
       "      <th>1</th>\n",
       "      <td>LNIND_1956_CAL_163</td>\n",
       "      <td>To be Tested</td>\n",
       "    </tr>\n",
       "    <tr>\n",
       "      <th>2</th>\n",
       "      <td>LNIND_1976_CAL_277</td>\n",
       "      <td>To be Tested</td>\n",
       "    </tr>\n",
       "    <tr>\n",
       "      <th>3</th>\n",
       "      <td>LNIND_1980_CAL_52</td>\n",
       "      <td>To be Tested</td>\n",
       "    </tr>\n",
       "    <tr>\n",
       "      <th>4</th>\n",
       "      <td>LNIND_1955_CAL_124</td>\n",
       "      <td>To be Tested</td>\n",
       "    </tr>\n",
       "    <tr>\n",
       "      <th>...</th>\n",
       "      <td>...</td>\n",
       "      <td>...</td>\n",
       "    </tr>\n",
       "    <tr>\n",
       "      <th>994</th>\n",
       "      <td>LNIND_1993_DEL_112</td>\n",
       "      <td>Criminal Laws</td>\n",
       "    </tr>\n",
       "    <tr>\n",
       "      <th>995</th>\n",
       "      <td>LNIND_1988_CAL_83</td>\n",
       "      <td>Service Law</td>\n",
       "    </tr>\n",
       "    <tr>\n",
       "      <th>996</th>\n",
       "      <td>LNIND_1993_DEL_16</td>\n",
       "      <td>Criminal Laws</td>\n",
       "    </tr>\n",
       "    <tr>\n",
       "      <th>997</th>\n",
       "      <td>LNIND_1957_CAL_46</td>\n",
       "      <td>Succession Laws</td>\n",
       "    </tr>\n",
       "    <tr>\n",
       "      <th>998</th>\n",
       "      <td>LNIND_1954_CAL_141</td>\n",
       "      <td>Government Contracts</td>\n",
       "    </tr>\n",
       "  </tbody>\n",
       "</table>\n",
       "<p>999 rows × 2 columns</p>\n",
       "</div>"
      ],
      "text/plain": [
       "             Judgements           Area.of.Law\n",
       "0    LNIND_1988_CAL_114          To be Tested\n",
       "1    LNIND_1956_CAL_163          To be Tested\n",
       "2    LNIND_1976_CAL_277          To be Tested\n",
       "3     LNIND_1980_CAL_52          To be Tested\n",
       "4    LNIND_1955_CAL_124          To be Tested\n",
       "..                  ...                   ...\n",
       "994  LNIND_1993_DEL_112         Criminal Laws\n",
       "995   LNIND_1988_CAL_83           Service Law\n",
       "996   LNIND_1993_DEL_16         Criminal Laws\n",
       "997   LNIND_1957_CAL_46       Succession Laws\n",
       "998  LNIND_1954_CAL_141  Government Contracts\n",
       "\n",
       "[999 rows x 2 columns]"
      ]
     },
     "execution_count": 19,
     "metadata": {},
     "output_type": "execute_result"
    }
   ],
   "source": [
    "tags_df"
   ]
  },
  {
   "cell_type": "code",
   "execution_count": 20,
   "metadata": {},
   "outputs": [],
   "source": [
    "path = r'/Users/Abi/Desktop/Rule14/Fixed Judgements'\n",
    "all_files = glob.glob(path + \"/*.txt\")\n",
    "\n",
    "assert len(all_files) == 999"
   ]
  },
  {
   "cell_type": "code",
   "execution_count": 21,
   "metadata": {},
   "outputs": [],
   "source": [
    "text_feature = []\n",
    "\n",
    "for filename in all_files:\n",
    "    with open(filename, 'r', encoding=\"utf8\", errors='ignore') as file:\n",
    "        data = str(file.read())\n",
    "        data = data.replace('\\n', ' ')\n",
    "        data = data.replace(\"\\'\", '')\n",
    "        text_feature.append((filename[43:-4],data))"
   ]
  },
  {
   "cell_type": "code",
   "execution_count": 166,
   "metadata": {},
   "outputs": [
    {
     "data": {
      "text/plain": [
       "'Parties Amulya Chandra Roy Versus Pashupati Nath High Court of Judicature at Calcutta Judges THE HONOURABLE CHIEF JUSTICE MR. HARRIES, THE HONOURABLE MR. JUSTICE G.N.DAS &amp; THE HONOURABLE MR. JUSTICE BANERJEE Full Bench Ref. 3 Of 1950,  A.F.A.O. No. 63 of 1949DOJ 21.02.1951 ADVOCATES APPEARED:For the Appearing Parties : Atul Chandra Gupta,Chandra Sekhar Sen,Jagdish Chandra Ghosh,Purushotham Chatterji,Advocates. Judgment G. N. DAS, J. –  (1) THIS Reference to a F. B. has arisen out of a procee'"
      ]
     },
     "execution_count": 166,
     "metadata": {},
     "output_type": "execute_result"
    }
   ],
   "source": [
    "text_feature[0][1][:500]"
   ]
  },
  {
   "cell_type": "code",
   "execution_count": 23,
   "metadata": {},
   "outputs": [
    {
     "data": {
      "text/html": [
       "<div>\n",
       "<style scoped>\n",
       "    .dataframe tbody tr th:only-of-type {\n",
       "        vertical-align: middle;\n",
       "    }\n",
       "\n",
       "    .dataframe tbody tr th {\n",
       "        vertical-align: top;\n",
       "    }\n",
       "\n",
       "    .dataframe thead th {\n",
       "        text-align: right;\n",
       "    }\n",
       "</style>\n",
       "<table border=\"1\" class=\"dataframe\">\n",
       "  <thead>\n",
       "    <tr style=\"text-align: right;\">\n",
       "      <th></th>\n",
       "      <th>Judgements</th>\n",
       "      <th>Description</th>\n",
       "    </tr>\n",
       "  </thead>\n",
       "  <tbody>\n",
       "    <tr>\n",
       "      <th>0</th>\n",
       "      <td>LNIND_1951_CAL_50</td>\n",
       "      <td>Parties Amulya Chandra Roy Versus Pashupati Na...</td>\n",
       "    </tr>\n",
       "    <tr>\n",
       "      <th>1</th>\n",
       "      <td>LNIND_1953_CAL_180</td>\n",
       "      <td>Parties Mohunt Satyanarayan Giri Versus Nanda ...</td>\n",
       "    </tr>\n",
       "    <tr>\n",
       "      <th>2</th>\n",
       "      <td>LNIND_1951_CAL_93</td>\n",
       "      <td>Parties Nalinakhya Bysack Versus Shyam Sundar...</td>\n",
       "    </tr>\n",
       "    <tr>\n",
       "      <th>3</th>\n",
       "      <td>LNIND_1993_DEL_165</td>\n",
       "      <td>Parties M. L. Khurana Versus H. C. Chopra High...</td>\n",
       "    </tr>\n",
       "    <tr>\n",
       "      <th>4</th>\n",
       "      <td>LNIND_1976_CAL_149</td>\n",
       "      <td>Parties Patai Sheikh Versus State of West Beng...</td>\n",
       "    </tr>\n",
       "  </tbody>\n",
       "</table>\n",
       "</div>"
      ],
      "text/plain": [
       "           Judgements                                        Description\n",
       "0   LNIND_1951_CAL_50  Parties Amulya Chandra Roy Versus Pashupati Na...\n",
       "1  LNIND_1953_CAL_180  Parties Mohunt Satyanarayan Giri Versus Nanda ...\n",
       "2   LNIND_1951_CAL_93   Parties Nalinakhya Bysack Versus Shyam Sundar...\n",
       "3  LNIND_1993_DEL_165  Parties M. L. Khurana Versus H. C. Chopra High...\n",
       "4  LNIND_1976_CAL_149  Parties Patai Sheikh Versus State of West Beng..."
      ]
     },
     "execution_count": 23,
     "metadata": {},
     "output_type": "execute_result"
    }
   ],
   "source": [
    "text_col = pd.DataFrame(text_feature, columns = ['Judgements', 'Description'])\n",
    "\n",
    "text_col.head()"
   ]
  },
  {
   "cell_type": "code",
   "execution_count": 24,
   "metadata": {},
   "outputs": [
    {
     "data": {
      "text/html": [
       "<div>\n",
       "<style scoped>\n",
       "    .dataframe tbody tr th:only-of-type {\n",
       "        vertical-align: middle;\n",
       "    }\n",
       "\n",
       "    .dataframe tbody tr th {\n",
       "        vertical-align: top;\n",
       "    }\n",
       "\n",
       "    .dataframe thead th {\n",
       "        text-align: right;\n",
       "    }\n",
       "</style>\n",
       "<table border=\"1\" class=\"dataframe\">\n",
       "  <thead>\n",
       "    <tr style=\"text-align: right;\">\n",
       "      <th></th>\n",
       "      <th>Judgements</th>\n",
       "      <th>Description</th>\n",
       "      <th>Category</th>\n",
       "    </tr>\n",
       "  </thead>\n",
       "  <tbody>\n",
       "    <tr>\n",
       "      <th>0</th>\n",
       "      <td>LNIND_1951_CAL_50</td>\n",
       "      <td>Parties Amulya Chandra Roy Versus Pashupati Na...</td>\n",
       "      <td>Tenancy Laws</td>\n",
       "    </tr>\n",
       "    <tr>\n",
       "      <th>1</th>\n",
       "      <td>LNIND_1953_CAL_180</td>\n",
       "      <td>Parties Mohunt Satyanarayan Giri Versus Nanda ...</td>\n",
       "      <td>Contract</td>\n",
       "    </tr>\n",
       "    <tr>\n",
       "      <th>2</th>\n",
       "      <td>LNIND_1951_CAL_93</td>\n",
       "      <td>Parties Nalinakhya Bysack Versus Shyam Sundar...</td>\n",
       "      <td>Civil Procedure</td>\n",
       "    </tr>\n",
       "    <tr>\n",
       "      <th>3</th>\n",
       "      <td>LNIND_1993_DEL_165</td>\n",
       "      <td>Parties M. L. Khurana Versus H. C. Chopra High...</td>\n",
       "      <td>Tenancy Laws</td>\n",
       "    </tr>\n",
       "    <tr>\n",
       "      <th>5</th>\n",
       "      <td>LNIND_1980_CAL_209</td>\n",
       "      <td>Parties Asutosh Bhandari Versus Jogmaya Dev...</td>\n",
       "      <td>Property Laws</td>\n",
       "    </tr>\n",
       "  </tbody>\n",
       "</table>\n",
       "</div>"
      ],
      "text/plain": [
       "           Judgements                                        Description  \\\n",
       "0   LNIND_1951_CAL_50  Parties Amulya Chandra Roy Versus Pashupati Na...   \n",
       "1  LNIND_1953_CAL_180  Parties Mohunt Satyanarayan Giri Versus Nanda ...   \n",
       "2   LNIND_1951_CAL_93   Parties Nalinakhya Bysack Versus Shyam Sundar...   \n",
       "3  LNIND_1993_DEL_165  Parties M. L. Khurana Versus H. C. Chopra High...   \n",
       "5  LNIND_1980_CAL_209     Parties Asutosh Bhandari Versus Jogmaya Dev...   \n",
       "\n",
       "          Category  \n",
       "0     Tenancy Laws  \n",
       "1         Contract  \n",
       "2  Civil Procedure  \n",
       "3     Tenancy Laws  \n",
       "5    Property Laws  "
      ]
     },
     "execution_count": 24,
     "metadata": {},
     "output_type": "execute_result"
    }
   ],
   "source": [
    "df = text_col.merge(tags_df, on=['Judgements'])\n",
    "df.rename(columns={'Area.of.Law' : 'Category'}, inplace=True)\n",
    "\n",
    "test_set = df[df['Category'] == 'To be Tested']\n",
    "df = df[df['Category'] != 'To be Tested']\n",
    "\n",
    "assert df.shape == (899,3)\n",
    "assert test_set.shape == (100,3)\n",
    "\n",
    "df.head()"
   ]
  },
  {
   "cell_type": "code",
   "execution_count": 25,
   "metadata": {},
   "outputs": [
    {
     "data": {
      "text/plain": [
       "Civil Procedure                     136\n",
       "Income Tax                           96\n",
       "Tenancy Laws                         84\n",
       "Property Laws                        71\n",
       "Criminal Procedure                   68\n",
       "Criminal Laws                        48\n",
       "Service Law                          40\n",
       "Local Government                     33\n",
       "Succession Laws                      30\n",
       "Company Law                          30\n",
       "Limitation                           26\n",
       "Constitution                         24\n",
       "Sales Tax And Vat                    19\n",
       "Customs                              19\n",
       "Alternative Dispute Resolution       15\n",
       "Contract                             15\n",
       "Family Law                           14\n",
       "Civil Laws                           13\n",
       "Employment And Labour Law            11\n",
       "Administrative Law                   11\n",
       "Transport Law                        11\n",
       "Excise                               10\n",
       "Education                             9\n",
       "Evidence                              9\n",
       "Banking And Finance                   8\n",
       "Arbitration                           7\n",
       "Motor Vehicles                        6\n",
       "Intellectual Property Laws            5\n",
       "Registration                          4\n",
       "Election Laws                         4\n",
       "Contempt Of Court                     4\n",
       "Government Contracts                  3\n",
       "Cooperative Societies                 3\n",
       "Insurance Law                         3\n",
       "Partnership And Joint Ventures        2\n",
       "Legal Profession                      2\n",
       "Natural Resources And Energy          2\n",
       "Media And Telecommunication Laws      1\n",
       "Consumer Law                          1\n",
       "Negotiable Instruments                1\n",
       "Armed Forces                          1\n",
       "Name: Category, dtype: int64"
      ]
     },
     "execution_count": 25,
     "metadata": {},
     "output_type": "execute_result"
    }
   ],
   "source": [
    "df['Category'].value_counts()"
   ]
  },
  {
   "cell_type": "code",
   "execution_count": 26,
   "metadata": {},
   "outputs": [],
   "source": [
    "one_sample_cols = ['Media And Telecommunication Laws', 'Negotiable Instruments',\n",
    "                  'Armed Forces', 'Consumer Law']\n",
    "\n",
    "df = df[~df['Category'].isin(one_sample_cols)]"
   ]
  },
  {
   "cell_type": "code",
   "execution_count": 167,
   "metadata": {},
   "outputs": [
    {
     "data": {
      "text/plain": [
       "'parties amulya chandra roy versus pashupati nath high court judicature calcutta judges the honourable chief justice mr harries the honourable mr justice gndas the honourable mr justice banerjee full bench ref 3 of 1950 afao no 63 1949doj 21021951 advocates appeared for appearing parties atul chandra gupta chandra sekhar sen jagdish chandra ghosh purushotham chatterji advocates judgment g n das j 1 this reference f b arisen procee'"
      ]
     },
     "execution_count": 167,
     "metadata": {},
     "output_type": "execute_result"
    }
   ],
   "source": [
    "def clean_text(text):\n",
    "    soup = BeautifulSoup(text, 'lxml')\n",
    "    text = soup.get_text()   #removes HTML tags\n",
    "    eng_stopwords = set(stopwords.words('english'))\n",
    "    text = re.sub(r\"[/(){}\\[\\]\\|@,;:]+\", r\" \", text)#replace punctuation with spaces\n",
    "    text = re.sub(r\"[^a-zA-Z0-9 ]+\", r\"\", text)#delete non-alphamenumeric characters \n",
    "    text = ' '.join(word for word in text.split() if word not in eng_stopwords)\n",
    "    return text.lower()\n",
    "    \n",
    "clean_text(text_feature[0][1][:500])"
   ]
  },
  {
   "cell_type": "code",
   "execution_count": 28,
   "metadata": {},
   "outputs": [],
   "source": [
    "df['Description'] = df['Description'].apply(clean_text)"
   ]
  },
  {
   "cell_type": "code",
   "execution_count": 29,
   "metadata": {},
   "outputs": [],
   "source": [
    "y = df['Category']\n",
    "X = df.drop(columns=['Judgements', 'Category'])"
   ]
  },
  {
   "cell_type": "markdown",
   "metadata": {},
   "source": [
    "## Train-Test Split"
   ]
  },
  {
   "cell_type": "code",
   "execution_count": 137,
   "metadata": {},
   "outputs": [],
   "source": [
    "X_train, X_val, y_train, y_val = train_test_split(X['Description'], y, test_size=.2, random_state=21, stratify=y)"
   ]
  },
  {
   "cell_type": "code",
   "execution_count": 31,
   "metadata": {},
   "outputs": [
    {
     "data": {
      "text/plain": [
       "Civil Procedure                   109\n",
       "Income Tax                         77\n",
       "Tenancy Laws                       67\n",
       "Property Laws                      57\n",
       "Criminal Procedure                 54\n",
       "Criminal Laws                      38\n",
       "Service Law                        32\n",
       "Local Government                   26\n",
       "Succession Laws                    24\n",
       "Company Law                        24\n",
       "Limitation                         21\n",
       "Constitution                       19\n",
       "Customs                            15\n",
       "Sales Tax And Vat                  15\n",
       "Alternative Dispute Resolution     12\n",
       "Contract                           12\n",
       "Family Law                         11\n",
       "Civil Laws                         11\n",
       "Transport Law                       9\n",
       "Employment And Labour Law           9\n",
       "Administrative Law                  9\n",
       "Excise                              8\n",
       "Education                           7\n",
       "Banking And Finance                 7\n",
       "Evidence                            7\n",
       "Arbitration                         6\n",
       "Motor Vehicles                      5\n",
       "Intellectual Property Laws          4\n",
       "Contempt Of Court                   3\n",
       "Election Laws                       3\n",
       "Registration                        3\n",
       "Insurance Law                       2\n",
       "Government Contracts                2\n",
       "Partnership And Joint Ventures      2\n",
       "Legal Profession                    2\n",
       "Cooperative Societies               2\n",
       "Natural Resources And Energy        2\n",
       "Name: Category, dtype: int64"
      ]
     },
     "execution_count": 31,
     "metadata": {},
     "output_type": "execute_result"
    }
   ],
   "source": [
    "y_train.value_counts()"
   ]
  },
  {
   "cell_type": "markdown",
   "metadata": {},
   "source": [
    "## TF-IDF Transformation"
   ]
  },
  {
   "cell_type": "code",
   "execution_count": 145,
   "metadata": {},
   "outputs": [],
   "source": [
    "from nltk import word_tokenize          \n",
    "from nltk.stem import WordNetLemmatizer \n",
    "from nltk.corpus import stopwords"
   ]
  },
  {
   "cell_type": "markdown",
   "metadata": {},
   "source": [
    "## Stemming"
   ]
  },
  {
   "cell_type": "code",
   "execution_count": 158,
   "metadata": {},
   "outputs": [],
   "source": [
    "from nltk.stem.snowball import PorterStemmer\n",
    "\n",
    "stemmer = PorterStemmer()\n",
    "analyzer = CountVectorizer().build_analyzer()\n",
    "\n",
    "def stemmed_words(doc):\n",
    "    return (stemmer.stem(w) for w in analyzer(doc))\n"
   ]
  },
  {
   "cell_type": "markdown",
   "metadata": {},
   "source": [
    "## Lemmatization"
   ]
  },
  {
   "cell_type": "code",
   "execution_count": 146,
   "metadata": {},
   "outputs": [],
   "source": [
    "def my_tokenize(text):\n",
    "    lemmatized =  [WordNetLemmatizer().lemmatize(t) for t in word_tokenize(text)]"
   ]
  },
  {
   "cell_type": "code",
   "execution_count": 159,
   "metadata": {},
   "outputs": [],
   "source": [
    "vectorizer = TfidfVectorizer(max_features=10000, ngram_range=(1,2), analyzer=stemmed_words,\n",
    "                             stop_words='english', tokenizer=my_tokenize,\n",
    "                             use_idf=True)"
   ]
  },
  {
   "cell_type": "code",
   "execution_count": 160,
   "metadata": {},
   "outputs": [],
   "source": [
    "X_train_tfidf = vectorizer.fit_transform(X_train)\n",
    "X_val_tfidf = vectorizer.transform(X_val)"
   ]
  },
  {
   "cell_type": "markdown",
   "metadata": {},
   "source": [
    "## SVD"
   ]
  },
  {
   "cell_type": "code",
   "execution_count": 161,
   "metadata": {},
   "outputs": [
    {
     "name": "stdout",
     "output_type": "stream",
     "text": [
      "  Explained variance of the SVD step: 99%\n"
     ]
    }
   ],
   "source": [
    "svd = TruncatedSVD(700)\n",
    "lsa = make_pipeline(svd, Normalizer(copy=False))\n",
    "X_train_lsa = lsa.fit_transform(X_train_tfidf)\n",
    "X_val_lsa = lsa.transform(X_val_tfidf)\n",
    "\n",
    "explained_variance = svd.explained_variance_ratio_.sum()\n",
    "print(\"  Explained variance of the SVD step: {}%\".format(int(explained_variance * 100)))"
   ]
  },
  {
   "cell_type": "code",
   "execution_count": 162,
   "metadata": {
    "scrolled": false
   },
   "outputs": [
    {
     "name": "stdout",
     "output_type": "stream",
     "text": [
      "                                precision    recall  f1-score   support\n",
      "\n",
      "            Administrative Law       0.40      1.00      0.57         2\n",
      "Alternative Dispute Resolution       0.75      1.00      0.86         3\n",
      "                   Arbitration       0.00      0.00      0.00         1\n",
      "           Banking And Finance       0.25      1.00      0.40         1\n",
      "                    Civil Laws       0.00      0.00      0.00         2\n",
      "               Civil Procedure       0.61      0.41      0.49        27\n",
      "                   Company Law       0.71      0.83      0.77         6\n",
      "                  Constitution       0.25      0.40      0.31         5\n",
      "             Contempt Of Court       1.00      1.00      1.00         1\n",
      "                      Contract       0.33      0.33      0.33         3\n",
      "         Cooperative Societies       1.00      1.00      1.00         1\n",
      "                 Criminal Laws       0.83      0.50      0.62        10\n",
      "            Criminal Procedure       0.69      0.79      0.73        14\n",
      "                       Customs       0.50      0.50      0.50         4\n",
      "                     Education       0.33      0.50      0.40         2\n",
      "                 Election Laws       0.50      1.00      0.67         1\n",
      "     Employment And Labour Law       0.50      1.00      0.67         2\n",
      "                      Evidence       0.00      0.00      0.00         2\n",
      "                        Excise       0.25      0.50      0.33         2\n",
      "                    Family Law       0.50      0.33      0.40         3\n",
      "          Government Contracts       0.00      0.00      0.00         1\n",
      "                    Income Tax       1.00      0.89      0.94        19\n",
      "                 Insurance Law       0.00      0.00      0.00         1\n",
      "    Intellectual Property Laws       0.00      0.00      0.00         1\n",
      "                    Limitation       1.00      0.40      0.57         5\n",
      "              Local Government       0.14      0.14      0.14         7\n",
      "                Motor Vehicles       0.50      1.00      0.67         1\n",
      "  Natural Resources And Energy       0.00      0.00      0.00         0\n",
      "Partnership And Joint Ventures       0.00      0.00      0.00         0\n",
      "                 Property Laws       0.50      0.36      0.42        14\n",
      "                  Registration       0.00      0.00      0.00         1\n",
      "             Sales Tax And Vat       0.50      0.50      0.50         4\n",
      "                   Service Law       0.67      0.75      0.71         8\n",
      "               Succession Laws       0.83      0.83      0.83         6\n",
      "                  Tenancy Laws       0.80      0.94      0.86        17\n",
      "                 Transport Law       0.25      0.50      0.33         2\n",
      "\n",
      "                      accuracy                           0.60       179\n",
      "                     macro avg       0.43      0.51      0.45       179\n",
      "                  weighted avg       0.62      0.60      0.59       179\n",
      "\n"
     ]
    },
    {
     "name": "stderr",
     "output_type": "stream",
     "text": [
      "/anaconda3/lib/python3.7/site-packages/sklearn/metrics/classification.py:1437: UndefinedMetricWarning: Precision and F-score are ill-defined and being set to 0.0 in labels with no predicted samples.\n",
      "  'precision', 'predicted', average, warn_for)\n",
      "/anaconda3/lib/python3.7/site-packages/sklearn/metrics/classification.py:1439: UndefinedMetricWarning: Recall and F-score are ill-defined and being set to 0.0 in labels with no true samples.\n",
      "  'recall', 'true', average, warn_for)\n"
     ]
    }
   ],
   "source": [
    "clf = SGDClassifier(loss='hinge', penalty='l2',\n",
    "                                    alpha=1e-3, class_weight='balanced')\n",
    "\n",
    "clf.fit(X_train_lsa, y_train)\n",
    "y_pred = clf.predict(X_val_lsa)\n",
    "print(classification_report(y_val, y_pred))"
   ]
  },
  {
   "cell_type": "markdown",
   "metadata": {},
   "source": [
    "## XGBoost"
   ]
  },
  {
   "cell_type": "code",
   "execution_count": 144,
   "metadata": {},
   "outputs": [
    {
     "name": "stdout",
     "output_type": "stream",
     "text": [
      "                                precision    recall  f1-score   support\n",
      "\n",
      "            Administrative Law       0.00      0.00      0.00         2\n",
      "Alternative Dispute Resolution       1.00      1.00      1.00         3\n",
      "                   Arbitration       0.00      0.00      0.00         1\n",
      "           Banking And Finance       0.00      0.00      0.00         1\n",
      "                    Civil Laws       0.00      0.00      0.00         2\n",
      "               Civil Procedure       0.36      0.78      0.49        27\n",
      "                   Company Law       0.67      0.67      0.67         6\n",
      "                  Constitution       1.00      0.20      0.33         5\n",
      "             Contempt Of Court       0.00      0.00      0.00         1\n",
      "                      Contract       0.00      0.00      0.00         3\n",
      "         Cooperative Societies       0.00      0.00      0.00         1\n",
      "                 Criminal Laws       0.75      0.30      0.43        10\n",
      "            Criminal Procedure       0.63      0.86      0.73        14\n",
      "                       Customs       0.60      0.75      0.67         4\n",
      "                     Education       0.50      0.50      0.50         2\n",
      "                 Election Laws       0.00      0.00      0.00         1\n",
      "     Employment And Labour Law       0.00      0.00      0.00         2\n",
      "                      Evidence       0.00      0.00      0.00         2\n",
      "                        Excise       0.50      0.50      0.50         2\n",
      "                    Family Law       0.50      0.33      0.40         3\n",
      "          Government Contracts       0.00      0.00      0.00         1\n",
      "                    Income Tax       0.85      0.89      0.87        19\n",
      "                 Insurance Law       0.00      0.00      0.00         1\n",
      "    Intellectual Property Laws       0.00      0.00      0.00         1\n",
      "                    Limitation       0.00      0.00      0.00         5\n",
      "              Local Government       0.00      0.00      0.00         7\n",
      "                Motor Vehicles       0.00      0.00      0.00         1\n",
      "                 Property Laws       0.37      0.50      0.42        14\n",
      "                  Registration       0.00      0.00      0.00         1\n",
      "             Sales Tax And Vat       0.67      0.50      0.57         4\n",
      "                   Service Law       0.70      0.88      0.78         8\n",
      "               Succession Laws       1.00      0.67      0.80         6\n",
      "                  Tenancy Laws       0.75      0.71      0.73        17\n",
      "                 Transport Law       0.00      0.00      0.00         2\n",
      "\n",
      "                      accuracy                           0.55       179\n",
      "                     macro avg       0.32      0.29      0.29       179\n",
      "                  weighted avg       0.52      0.55      0.51       179\n",
      "\n"
     ]
    }
   ],
   "source": [
    "from xgboost.sklearn import XGBClassifier \n",
    "xgb_model = XGBClassifier(n_jobs=-1, n_estimators=100, class_weight='balanced')\n",
    "xgb_model.fit(X_train_lsa, y_train)\n",
    "y_pred = xgb_model.predict(X_val_lsa) \n",
    "print(classification_report(y_val, y_pred))"
   ]
  },
  {
   "cell_type": "markdown",
   "metadata": {},
   "source": [
    "## Naive Bayes "
   ]
  },
  {
   "cell_type": "code",
   "execution_count": 79,
   "metadata": {},
   "outputs": [
    {
     "name": "stdout",
     "output_type": "stream",
     "text": [
      "                                precision    recall  f1-score   support\n",
      "\n",
      "            Administrative Law       0.00      0.00      0.00         2\n",
      "Alternative Dispute Resolution       0.00      0.00      0.00         3\n",
      "                   Arbitration       0.00      0.00      0.00         1\n",
      "           Banking And Finance       0.00      0.00      0.00         1\n",
      "                    Civil Laws       0.00      0.00      0.00         2\n",
      "               Civil Procedure       0.20      0.96      0.33        27\n",
      "                   Company Law       0.00      0.00      0.00         6\n",
      "                  Constitution       0.00      0.00      0.00         5\n",
      "             Contempt Of Court       0.00      0.00      0.00         1\n",
      "                      Contract       0.00      0.00      0.00         3\n",
      "         Cooperative Societies       0.00      0.00      0.00         1\n",
      "                 Criminal Laws       1.00      0.10      0.18        10\n",
      "            Criminal Procedure       0.50      0.50      0.50        14\n",
      "                       Customs       0.00      0.00      0.00         4\n",
      "                     Education       0.00      0.00      0.00         2\n",
      "                 Election Laws       0.00      0.00      0.00         1\n",
      "     Employment And Labour Law       0.00      0.00      0.00         2\n",
      "                      Evidence       0.00      0.00      0.00         2\n",
      "                        Excise       0.00      0.00      0.00         2\n",
      "                    Family Law       0.00      0.00      0.00         3\n",
      "          Government Contracts       0.00      0.00      0.00         1\n",
      "                    Income Tax       0.89      0.89      0.89        19\n",
      "                 Insurance Law       0.00      0.00      0.00         1\n",
      "    Intellectual Property Laws       0.00      0.00      0.00         1\n",
      "                    Limitation       0.00      0.00      0.00         5\n",
      "              Local Government       0.00      0.00      0.00         7\n",
      "                Motor Vehicles       0.00      0.00      0.00         1\n",
      "                 Property Laws       0.50      0.07      0.12        14\n",
      "                  Registration       0.00      0.00      0.00         1\n",
      "             Sales Tax And Vat       0.00      0.00      0.00         4\n",
      "                   Service Law       0.00      0.00      0.00         8\n",
      "               Succession Laws       0.00      0.00      0.00         6\n",
      "                  Tenancy Laws       0.77      0.59      0.67        17\n",
      "                 Transport Law       0.00      0.00      0.00         2\n",
      "\n",
      "                      accuracy                           0.35       179\n",
      "                     macro avg       0.11      0.09      0.08       179\n",
      "                  weighted avg       0.33      0.35      0.27       179\n",
      "\n"
     ]
    },
    {
     "name": "stderr",
     "output_type": "stream",
     "text": [
      "/anaconda3/lib/python3.7/site-packages/sklearn/metrics/classification.py:1437: UndefinedMetricWarning: Precision and F-score are ill-defined and being set to 0.0 in labels with no predicted samples.\n",
      "  'precision', 'predicted', average, warn_for)\n"
     ]
    }
   ],
   "source": [
    "nb = MultinomialNB()\n",
    "nb.fit(X_train_tfidf, y_train)\n",
    "y_pred = nb.predict(X_val_tfidf)\n",
    "print(classification_report(y_val, y_pred))"
   ]
  },
  {
   "cell_type": "markdown",
   "metadata": {},
   "source": [
    "## PCA"
   ]
  },
  {
   "cell_type": "code",
   "execution_count": 58,
   "metadata": {},
   "outputs": [],
   "source": [
    "from sklearn.decomposition import PCA\n",
    "\n",
    "pca = PCA(n_components=500)\n",
    "X_train_pca = pca.fit_transform(X_train_lsa)\n",
    "X_val_pca = pca.transform(X_val_lsa)"
   ]
  },
  {
   "cell_type": "code",
   "execution_count": 59,
   "metadata": {
    "scrolled": true
   },
   "outputs": [
    {
     "data": {
      "image/png": "[encoded data removed]",
      "text/plain": [
       "<Figure size 432x288 with 1 Axes>"
      ]
     },
     "metadata": {
      "needs_background": "light"
     },
     "output_type": "display_data"
    }
   ],
   "source": [
    "plt.plot(pca.explained_variance_ratio_)\n",
    "plt.xlabel('# components')\n",
    "plt.ylabel('explained variance');\n",
    "plt.title('Scree plot');"
   ]
  },
  {
   "cell_type": "code",
   "execution_count": 60,
   "metadata": {
    "scrolled": true
   },
   "outputs": [
    {
     "data": {
      "image/png": "[encoded data removed]",
      "text/plain": [
       "<Figure size 432x288 with 1 Axes>"
      ]
     },
     "metadata": {
      "needs_background": "light"
     },
     "output_type": "display_data"
    }
   ],
   "source": [
    "plt.plot(np.cumsum(pca.explained_variance_ratio_))\n",
    "plt.xlabel('# components')\n",
    "plt.ylabel('cumulative explained variance');\n",
    "plt.title('Cumulative explained variance by PCA');"
   ]
  },
  {
   "cell_type": "code",
   "execution_count": 61,
   "metadata": {
    "scrolled": true
   },
   "outputs": [
    {
     "name": "stdout",
     "output_type": "stream",
     "text": [
      "                                precision    recall  f1-score   support\n",
      "\n",
      "            Administrative Law       0.40      1.00      0.57         2\n",
      "Alternative Dispute Resolution       0.75      1.00      0.86         3\n",
      "                   Arbitration       0.00      0.00      0.00         1\n",
      "           Banking And Finance       0.20      1.00      0.33         1\n",
      "                    Civil Laws       0.00      0.00      0.00         2\n",
      "               Civil Procedure       0.63      0.63      0.63        27\n",
      "                   Company Law       1.00      0.83      0.91         6\n",
      "                  Constitution       0.38      0.60      0.46         5\n",
      "             Contempt Of Court       1.00      1.00      1.00         1\n",
      "                      Contract       1.00      0.33      0.50         3\n",
      "         Cooperative Societies       1.00      1.00      1.00         1\n",
      "                 Criminal Laws       0.80      0.40      0.53        10\n",
      "            Criminal Procedure       0.67      0.71      0.69        14\n",
      "                       Customs       0.50      0.50      0.50         4\n",
      "                     Education       0.33      0.50      0.40         2\n",
      "                 Election Laws       0.33      1.00      0.50         1\n",
      "     Employment And Labour Law       1.00      1.00      1.00         2\n",
      "                      Evidence       0.00      0.00      0.00         2\n",
      "                        Excise       0.25      0.50      0.33         2\n",
      "                    Family Law       0.50      0.33      0.40         3\n",
      "          Government Contracts       0.00      0.00      0.00         1\n",
      "                    Income Tax       1.00      0.89      0.94        19\n",
      "                 Insurance Law       0.00      0.00      0.00         1\n",
      "    Intellectual Property Laws       0.00      0.00      0.00         1\n",
      "                    Limitation       0.40      0.40      0.40         5\n",
      "              Local Government       0.14      0.14      0.14         7\n",
      "                Motor Vehicles       0.00      0.00      0.00         1\n",
      "  Natural Resources And Energy       0.00      0.00      0.00         0\n",
      "                 Property Laws       0.42      0.36      0.38        14\n",
      "                  Registration       1.00      1.00      1.00         1\n",
      "             Sales Tax And Vat       0.75      0.75      0.75         4\n",
      "                   Service Law       0.67      0.75      0.71         8\n",
      "               Succession Laws       1.00      0.83      0.91         6\n",
      "                  Tenancy Laws       0.83      0.88      0.86        17\n",
      "                 Transport Law       0.33      0.50      0.40         2\n",
      "\n",
      "                      accuracy                           0.63       179\n",
      "                     macro avg       0.49      0.54      0.49       179\n",
      "                  weighted avg       0.65      0.63      0.62       179\n",
      "\n"
     ]
    },
    {
     "name": "stderr",
     "output_type": "stream",
     "text": [
      "/anaconda3/lib/python3.7/site-packages/sklearn/metrics/classification.py:1437: UndefinedMetricWarning: Precision and F-score are ill-defined and being set to 0.0 in labels with no predicted samples.\n",
      "  'precision', 'predicted', average, warn_for)\n",
      "/anaconda3/lib/python3.7/site-packages/sklearn/metrics/classification.py:1439: UndefinedMetricWarning: Recall and F-score are ill-defined and being set to 0.0 in labels with no true samples.\n",
      "  'recall', 'true', average, warn_for)\n"
     ]
    }
   ],
   "source": [
    "clf = SGDClassifier(loss='hinge', penalty='l2',\n",
    "                                    alpha=1e-3, class_weight='balanced')\n",
    "\n",
    "clf.fit(X_train_pca, y_train)\n",
    "y_pred = clf.predict(X_val_pca)\n",
    "print(classification_report(y_val, y_pred))"
   ]
  },
  {
   "cell_type": "code",
   "execution_count": null,
   "metadata": {},
   "outputs": [],
   "source": [
    "xgb = XGBClassifier()\n",
    "\n",
    "clf.fit(X_train_pca, y_train)\n",
    "y_pred = clf.predict(X_val_pca)\n",
    "print(classification_report(y_val, y_pred))"
   ]
  },
  {
   "cell_type": "markdown",
   "metadata": {},
   "source": [
    "## Oversampled Models"
   ]
  },
  {
   "cell_type": "code",
   "execution_count": 63,
   "metadata": {},
   "outputs": [
    {
     "name": "stderr",
     "output_type": "stream",
     "text": [
      "Using TensorFlow backend.\n"
     ]
    }
   ],
   "source": [
    "from imblearn.over_sampling import SMOTE"
   ]
  },
  {
   "cell_type": "code",
   "execution_count": 64,
   "metadata": {},
   "outputs": [],
   "source": [
    "sm = SMOTE(random_state=2, k_neighbors=1)\n",
    "X_train_smote, y_train_smote = sm.fit_sample(X_train_tfidf, y_train)"
   ]
  },
  {
   "cell_type": "markdown",
   "metadata": {},
   "source": [
    "## Naive Bayes (Oversampled)"
   ]
  },
  {
   "cell_type": "code",
   "execution_count": 80,
   "metadata": {},
   "outputs": [
    {
     "name": "stdout",
     "output_type": "stream",
     "text": [
      "                                precision    recall  f1-score   support\n",
      "\n",
      "            Administrative Law       0.40      1.00      0.57         2\n",
      "Alternative Dispute Resolution       0.75      1.00      0.86         3\n",
      "                   Arbitration       0.00      0.00      0.00         1\n",
      "           Banking And Finance       0.20      1.00      0.33         1\n",
      "                    Civil Laws       0.00      0.00      0.00         2\n",
      "               Civil Procedure       0.73      0.41      0.52        27\n",
      "                   Company Law       0.83      0.83      0.83         6\n",
      "                  Constitution       0.33      0.60      0.43         5\n",
      "             Contempt Of Court       1.00      1.00      1.00         1\n",
      "                      Contract       0.50      0.33      0.40         3\n",
      "         Cooperative Societies       1.00      1.00      1.00         1\n",
      "                 Criminal Laws       0.78      0.70      0.74        10\n",
      "            Criminal Procedure       0.82      0.64      0.72        14\n",
      "                       Customs       0.40      0.50      0.44         4\n",
      "                     Education       0.33      0.50      0.40         2\n",
      "                 Election Laws       0.33      1.00      0.50         1\n",
      "     Employment And Labour Law       0.67      1.00      0.80         2\n",
      "                      Evidence       0.00      0.00      0.00         2\n",
      "                        Excise       0.25      0.50      0.33         2\n",
      "                    Family Law       0.50      0.33      0.40         3\n",
      "          Government Contracts       0.00      0.00      0.00         1\n",
      "                    Income Tax       0.94      0.89      0.92        19\n",
      "                 Insurance Law       0.00      0.00      0.00         1\n",
      "    Intellectual Property Laws       0.00      0.00      0.00         1\n",
      "                    Limitation       0.50      0.40      0.44         5\n",
      "              Local Government       0.29      0.29      0.29         7\n",
      "                Motor Vehicles       0.00      0.00      0.00         1\n",
      "  Natural Resources And Energy       0.00      0.00      0.00         0\n",
      "Partnership And Joint Ventures       0.00      0.00      0.00         0\n",
      "                 Property Laws       0.46      0.43      0.44        14\n",
      "                  Registration       1.00      1.00      1.00         1\n",
      "             Sales Tax And Vat       0.75      0.75      0.75         4\n",
      "                   Service Law       0.67      0.75      0.71         8\n",
      "               Succession Laws       0.83      0.83      0.83         6\n",
      "                  Tenancy Laws       0.83      0.88      0.86        17\n",
      "                 Transport Law       0.33      0.50      0.40         2\n",
      "\n",
      "                      accuracy                           0.61       179\n",
      "                     macro avg       0.46      0.53      0.47       179\n",
      "                  weighted avg       0.65      0.61      0.62       179\n",
      "\n"
     ]
    },
    {
     "name": "stderr",
     "output_type": "stream",
     "text": [
      "/anaconda3/lib/python3.7/site-packages/sklearn/metrics/classification.py:1439: UndefinedMetricWarning: Recall and F-score are ill-defined and being set to 0.0 in labels with no true samples.\n",
      "  'recall', 'true', average, warn_for)\n"
     ]
    }
   ],
   "source": [
    "clf = SGDClassifier(loss='hinge', penalty='l2',\n",
    "                                    alpha=1e-3, class_weight='balanced')\n",
    "\n",
    "clf.fit(X_train_smote, y_train_smote)\n",
    "y_pred = clf.predict(X_val_tfidf)\n",
    "print(classification_report(y_val, y_pred))"
   ]
  },
  {
   "cell_type": "markdown",
   "metadata": {},
   "source": [
    "## SGD (Oversampled)"
   ]
  },
  {
   "cell_type": "code",
   "execution_count": 70,
   "metadata": {},
   "outputs": [
    {
     "name": "stdout",
     "output_type": "stream",
     "text": [
      "                                precision    recall  f1-score   support\n",
      "\n",
      "            Administrative Law       0.40      1.00      0.57         2\n",
      "Alternative Dispute Resolution       0.75      1.00      0.86         3\n",
      "                   Arbitration       0.00      0.00      0.00         1\n",
      "           Banking And Finance       0.17      1.00      0.29         1\n",
      "                    Civil Laws       0.00      0.00      0.00         2\n",
      "               Civil Procedure       0.80      0.44      0.57        27\n",
      "                   Company Law       0.83      0.83      0.83         6\n",
      "                  Constitution       0.33      0.60      0.43         5\n",
      "             Contempt Of Court       1.00      1.00      1.00         1\n",
      "                      Contract       0.50      0.33      0.40         3\n",
      "         Cooperative Societies       1.00      1.00      1.00         1\n",
      "                 Criminal Laws       0.70      0.70      0.70        10\n",
      "            Criminal Procedure       0.75      0.64      0.69        14\n",
      "                       Customs       0.40      0.50      0.44         4\n",
      "                     Education       0.33      0.50      0.40         2\n",
      "                 Election Laws       0.33      1.00      0.50         1\n",
      "     Employment And Labour Law       0.67      1.00      0.80         2\n",
      "                      Evidence       0.00      0.00      0.00         2\n",
      "                        Excise       0.25      0.50      0.33         2\n",
      "                    Family Law       0.50      0.33      0.40         3\n",
      "          Government Contracts       0.00      0.00      0.00         1\n",
      "                    Income Tax       1.00      0.89      0.94        19\n",
      "                 Insurance Law       0.00      0.00      0.00         1\n",
      "    Intellectual Property Laws       0.00      0.00      0.00         1\n",
      "                    Limitation       0.67      0.40      0.50         5\n",
      "              Local Government       0.29      0.29      0.29         7\n",
      "                Motor Vehicles       0.00      0.00      0.00         1\n",
      "  Natural Resources And Energy       0.00      0.00      0.00         0\n",
      "Partnership And Joint Ventures       0.00      0.00      0.00         0\n",
      "                 Property Laws       0.46      0.43      0.44        14\n",
      "                  Registration       1.00      1.00      1.00         1\n",
      "             Sales Tax And Vat       0.75      0.75      0.75         4\n",
      "                   Service Law       0.67      0.75      0.71         8\n",
      "               Succession Laws       0.83      0.83      0.83         6\n",
      "                  Tenancy Laws       0.83      0.88      0.86        17\n",
      "                 Transport Law       0.33      0.50      0.40         2\n",
      "\n",
      "                      accuracy                           0.62       179\n",
      "                     macro avg       0.46      0.53      0.47       179\n",
      "                  weighted avg       0.66      0.62      0.62       179\n",
      "\n"
     ]
    },
    {
     "name": "stderr",
     "output_type": "stream",
     "text": [
      "/anaconda3/lib/python3.7/site-packages/sklearn/metrics/classification.py:1437: UndefinedMetricWarning: Precision and F-score are ill-defined and being set to 0.0 in labels with no predicted samples.\n",
      "  'precision', 'predicted', average, warn_for)\n",
      "/anaconda3/lib/python3.7/site-packages/sklearn/metrics/classification.py:1439: UndefinedMetricWarning: Recall and F-score are ill-defined and being set to 0.0 in labels with no true samples.\n",
      "  'recall', 'true', average, warn_for)\n"
     ]
    }
   ],
   "source": [
    "clf = SGDClassifier(loss='hinge', penalty='l2',\n",
    "                                    alpha=1e-3, class_weight='balanced')\n",
    "\n",
    "clf.fit(X_train_smote, y_train_smote)\n",
    "y_pred = clf.predict(X_val_tfidf)\n",
    "print(classification_report(y_val, y_pred))"
   ]
  },
  {
   "cell_type": "markdown",
   "metadata": {},
   "source": [
    "## Oversampled with SVD"
   ]
  },
  {
   "cell_type": "code",
   "execution_count": 72,
   "metadata": {},
   "outputs": [
    {
     "name": "stdout",
     "output_type": "stream",
     "text": [
      "  Explained variance of the SVD step: 99%\n"
     ]
    }
   ],
   "source": [
    "svd = TruncatedSVD(700)\n",
    "lsa = make_pipeline(svd, Normalizer(copy=False))\n",
    "X_train_lsa = lsa.fit_transform(X_train_smote)\n",
    "X_val_lsa = lsa.transform(X_val_tfidf)\n",
    "\n",
    "explained_variance = svd.explained_variance_ratio_.sum()\n",
    "print(\"  Explained variance of the SVD step: {}%\".format(int(explained_variance * 100)))"
   ]
  },
  {
   "cell_type": "code",
   "execution_count": 74,
   "metadata": {},
   "outputs": [
    {
     "name": "stdout",
     "output_type": "stream",
     "text": [
      "                                precision    recall  f1-score   support\n",
      "\n",
      "            Administrative Law       0.40      1.00      0.57         2\n",
      "Alternative Dispute Resolution       0.75      1.00      0.86         3\n",
      "                   Arbitration       0.00      0.00      0.00         1\n",
      "           Banking And Finance       0.17      1.00      0.29         1\n",
      "                    Civil Laws       0.00      0.00      0.00         2\n",
      "               Civil Procedure       0.79      0.41      0.54        27\n",
      "                   Company Law       1.00      0.83      0.91         6\n",
      "                  Constitution       0.33      0.60      0.43         5\n",
      "             Contempt Of Court       1.00      1.00      1.00         1\n",
      "                      Contract       0.33      0.33      0.33         3\n",
      "         Cooperative Societies       1.00      1.00      1.00         1\n",
      "                 Criminal Laws       0.70      0.70      0.70        10\n",
      "            Criminal Procedure       0.82      0.64      0.72        14\n",
      "                       Customs       0.40      0.50      0.44         4\n",
      "                     Education       1.00      0.50      0.67         2\n",
      "                 Election Laws       0.25      1.00      0.40         1\n",
      "     Employment And Labour Law       0.67      1.00      0.80         2\n",
      "                      Evidence       0.00      0.00      0.00         2\n",
      "                        Excise       0.25      0.50      0.33         2\n",
      "                    Family Law       0.50      0.33      0.40         3\n",
      "          Government Contracts       0.00      0.00      0.00         1\n",
      "                    Income Tax       1.00      0.89      0.94        19\n",
      "                 Insurance Law       0.00      0.00      0.00         1\n",
      "    Intellectual Property Laws       0.00      0.00      0.00         1\n",
      "                    Limitation       0.50      0.40      0.44         5\n",
      "              Local Government       0.29      0.29      0.29         7\n",
      "                Motor Vehicles       0.00      0.00      0.00         1\n",
      "  Natural Resources And Energy       0.00      0.00      0.00         0\n",
      "Partnership And Joint Ventures       0.00      0.00      0.00         0\n",
      "                 Property Laws       0.43      0.43      0.43        14\n",
      "                  Registration       1.00      1.00      1.00         1\n",
      "             Sales Tax And Vat       0.75      0.75      0.75         4\n",
      "                   Service Law       0.70      0.88      0.78         8\n",
      "               Succession Laws       0.83      0.83      0.83         6\n",
      "                  Tenancy Laws       0.83      0.88      0.86        17\n",
      "                 Transport Law       0.33      0.50      0.40         2\n",
      "\n",
      "                      accuracy                           0.62       179\n",
      "                     macro avg       0.47      0.53      0.48       179\n",
      "                  weighted avg       0.67      0.62      0.63       179\n",
      "\n"
     ]
    },
    {
     "name": "stderr",
     "output_type": "stream",
     "text": [
      "/anaconda3/lib/python3.7/site-packages/sklearn/metrics/classification.py:1437: UndefinedMetricWarning: Precision and F-score are ill-defined and being set to 0.0 in labels with no predicted samples.\n",
      "  'precision', 'predicted', average, warn_for)\n",
      "/anaconda3/lib/python3.7/site-packages/sklearn/metrics/classification.py:1439: UndefinedMetricWarning: Recall and F-score are ill-defined and being set to 0.0 in labels with no true samples.\n",
      "  'recall', 'true', average, warn_for)\n"
     ]
    }
   ],
   "source": [
    "clf = SGDClassifier(loss='hinge', penalty='l2',\n",
    "                                    alpha=1e-3, class_weight='balanced')\n",
    "\n",
    "clf.fit(X_train_lsa, y_train_smote)\n",
    "y_pred = clf.predict(X_val_lsa)\n",
    "print(classification_report(y_val, y_pred))"
   ]
  },
  {
   "cell_type": "markdown",
   "metadata": {},
   "source": [
    "## LSTM"
   ]
  },
  {
   "cell_type": "code",
   "execution_count": 98,
   "metadata": {},
   "outputs": [],
   "source": [
    "import csv\n",
    "import tensorflow as tf\n",
    "import numpy as np\n",
    "from tensorflow.keras.preprocessing.text import Tokenizer\n",
    "from tensorflow.keras.preprocessing.sequence import pad_sequences\n",
    "from nltk.corpus import stopwords\n",
    "STOPWORDS = set(stopwords.words('english'))"
   ]
  },
  {
   "cell_type": "code",
   "execution_count": 113,
   "metadata": {},
   "outputs": [
    {
     "name": "stdout",
     "output_type": "stream",
     "text": [
      "Train on 644 samples, validate on 72 samples\n",
      "Epoch 1/10\n",
      "644/644 [==============================] - 33s 52ms/step - loss: 3.0216 - acc: 0.2438 - val_loss: 2.0387 - val_acc: 0.4861\n",
      "Epoch 2/10\n",
      "644/644 [==============================] - 17s 26ms/step - loss: 1.1360 - acc: 0.7174 - val_loss: 1.6696 - val_acc: 0.5417\n",
      "Epoch 3/10\n",
      "644/644 [==============================] - 16s 25ms/step - loss: 0.3921 - acc: 0.9317 - val_loss: 1.5763 - val_acc: 0.5694\n",
      "Epoch 4/10\n",
      "644/644 [==============================] - 24s 38ms/step - loss: 0.1578 - acc: 0.9829 - val_loss: 1.5319 - val_acc: 0.6111\n",
      "Epoch 5/10\n",
      "644/644 [==============================] - 26s 40ms/step - loss: 0.0652 - acc: 0.9984 - val_loss: 1.4675 - val_acc: 0.6389\n",
      "Epoch 6/10\n",
      "644/644 [==============================] - 28s 44ms/step - loss: 0.0460 - acc: 0.9969 - val_loss: 1.4754 - val_acc: 0.6250\n",
      "Epoch 7/10\n",
      "644/644 [==============================] - 30s 46ms/step - loss: 0.0406 - acc: 0.9984 - val_loss: 1.4795 - val_acc: 0.6389\n",
      "Epoch 8/10\n",
      "644/644 [==============================] - 19s 29ms/step - loss: 0.0182 - acc: 0.9969 - val_loss: 1.5744 - val_acc: 0.6111\n",
      "Epoch 9/10\n",
      "644/644 [==============================] - 15s 23ms/step - loss: 0.0513 - acc: 0.9953 - val_loss: 1.4260 - val_acc: 0.6528\n",
      "Epoch 10/10\n",
      "644/644 [==============================] - 14s 21ms/step - loss: 0.0107 - acc: 1.0000 - val_loss: 1.4194 - val_acc: 0.6528\n"
     ]
    }
   ],
   "source": [
    "import itertools\n",
    "import os\n",
    "\n",
    "%matplotlib inline\n",
    "import matplotlib.pyplot as plt\n",
    "import numpy as np\n",
    "import pandas as pd\n",
    "import tensorflow as tf\n",
    "\n",
    "from sklearn.preprocessing import LabelBinarizer, LabelEncoder\n",
    "from sklearn.metrics import confusion_matrix\n",
    "\n",
    "from tensorflow import keras\n",
    "from keras.models import Sequential\n",
    "from keras.layers import Dense, Activation, Dropout\n",
    "from keras.preprocessing import text, sequence\n",
    "from keras import utils\n",
    "\n",
    "train_posts = X_train\n",
    "train_tags = y_train\n",
    "\n",
    "test_posts = X_val\n",
    "test_tags = y_val\n",
    "\n",
    "max_words = 10000\n",
    "tokenize = text.Tokenizer(num_words=max_words, char_level=False)\n",
    "tokenize.fit_on_texts(train_posts) # only fit on train\n",
    "\n",
    "x_train = tokenize.texts_to_matrix(train_posts)\n",
    "x_test = tokenize.texts_to_matrix(test_posts)\n",
    "\n",
    "encoder = LabelEncoder()\n",
    "encoder.fit(train_tags)\n",
    "y_train = encoder.transform(train_tags)\n",
    "y_test = encoder.transform(test_tags)\n",
    "\n",
    "num_classes = np.max(y_train) + 1\n",
    "y_train = utils.to_categorical(y_train, num_classes)\n",
    "y_test = utils.to_categorical(y_test, num_classes)\n",
    "\n",
    "batch_size = 32\n",
    "epochs = 10\n",
    "\n",
    "# Build the model\n",
    "model = Sequential()\n",
    "model.add(Dense(512, input_shape=(max_words,)))\n",
    "model.add(Activation('relu'))\n",
    "model.add(Dropout(0.5))\n",
    "model.add(Dense(num_classes))\n",
    "model.add(Activation('softmax'))\n",
    "\n",
    "model.compile(loss='categorical_crossentropy',\n",
    "              optimizer='adam',\n",
    "              metrics=['accuracy'])\n",
    "              \n",
    "history = model.fit(x_train, y_train,\n",
    "                    batch_size=batch_size,\n",
    "                    epochs=epochs,\n",
    "                    verbose=1,\n",
    "                    validation_split=0.1)"
   ]
  },
  {
   "cell_type": "code",
   "execution_count": 116,
   "metadata": {},
   "outputs": [
    {
     "name": "stdout",
     "output_type": "stream",
     "text": [
      "179/179 [==============================] - 0s 589us/step\n",
      "Test accuracy: 0.5363128488290243\n"
     ]
    }
   ],
   "source": [
    "score = model.evaluate(x_test, y_test,\n",
    "                       batch_size=batch_size, verbose=1)\n",
    "print('Test accuracy:', score[1])"
   ]
  },
  {
   "cell_type": "code",
   "execution_count": 125,
   "metadata": {},
   "outputs": [
    {
     "data": {
      "text/plain": [
       "array([ 5, 35, 19, 33, 35, 34,  0,  5, 21,  6, 12, 30,  6, 33,  5,  5, 33,\n",
       "       33,  5, 11, 13,  5,  5,  5, 35, 34,  1, 21, 12, 30, 30,  5, 30, 35,\n",
       "        6, 11,  5, 21, 21,  5,  5, 30,  5, 19, 12, 21,  6, 26, 12,  5, 12,\n",
       "        5, 33, 33,  5, 35,  7,  5,  5, 30, 12,  5, 32, 35,  6, 21, 33,  5,\n",
       "       35, 21, 35, 30, 26, 11, 21, 30,  5, 30, 33,  7, 30, 30,  6, 21,  5,\n",
       "       21,  5,  5, 12,  5, 32,  5,  5, 12, 33, 33, 11, 11, 13,  5,  5,  5,\n",
       "       33, 33,  5, 12, 30,  5, 21, 12, 33, 21,  5, 11,  5, 21, 35,  5,  5,\n",
       "       12, 12, 33, 35, 11, 21, 11, 12, 35, 35, 12,  5, 35,  5, 13,  5, 21,\n",
       "       33, 30, 21, 12, 30, 35,  5,  7,  5, 30, 30,  5,  5, 21, 11, 12, 35,\n",
       "        5, 21, 30, 21, 33, 35, 30,  5, 30,  9, 30,  9,  5, 21, 12, 34, 33,\n",
       "        5,  5, 35, 21,  5,  5,  5, 33, 26])"
      ]
     },
     "execution_count": 125,
     "metadata": {},
     "output_type": "execute_result"
    }
   ],
   "source": [
    "model.predict_classes(x_test)"
   ]
  },
  {
   "cell_type": "code",
   "execution_count": 133,
   "metadata": {},
   "outputs": [],
   "source": [
    "y_pred = encoder.inverse_transform(model.predict_classes(x_test))\n"
   ]
  },
  {
   "cell_type": "code",
   "execution_count": 135,
   "metadata": {},
   "outputs": [
    {
     "name": "stdout",
     "output_type": "stream",
     "text": [
      "                                precision    recall  f1-score   support\n",
      "\n",
      "            Administrative Law       0.00      0.00      0.00         2\n",
      "Alternative Dispute Resolution       1.00      0.33      0.50         3\n",
      "                   Arbitration       0.00      0.00      0.00         1\n",
      "           Banking And Finance       0.00      0.00      0.00         1\n",
      "                    Civil Laws       0.00      0.00      0.00         2\n",
      "               Civil Procedure       0.39      0.74      0.51        27\n",
      "                   Company Law       0.67      0.67      0.67         6\n",
      "                  Constitution       0.33      0.20      0.25         5\n",
      "             Contempt Of Court       0.00      0.00      0.00         1\n",
      "                      Contract       0.00      0.00      0.00         3\n",
      "         Cooperative Societies       0.00      0.00      0.00         1\n",
      "                 Criminal Laws       0.56      0.50      0.53        10\n",
      "            Criminal Procedure       0.59      0.71      0.65        14\n",
      "                       Customs       0.33      0.25      0.29         4\n",
      "                     Education       0.00      0.00      0.00         2\n",
      "                 Election Laws       0.00      0.00      0.00         1\n",
      "     Employment And Labour Law       0.00      0.00      0.00         2\n",
      "                      Evidence       0.00      0.00      0.00         2\n",
      "                        Excise       0.00      0.00      0.00         2\n",
      "                    Family Law       0.50      0.33      0.40         3\n",
      "          Government Contracts       0.00      0.00      0.00         1\n",
      "                    Income Tax       0.81      0.89      0.85        19\n",
      "                 Insurance Law       0.00      0.00      0.00         1\n",
      "    Intellectual Property Laws       0.00      0.00      0.00         1\n",
      "                    Limitation       0.00      0.00      0.00         5\n",
      "              Local Government       1.00      0.43      0.60         7\n",
      "                Motor Vehicles       0.00      0.00      0.00         1\n",
      "                 Property Laws       0.40      0.57      0.47        14\n",
      "                  Registration       0.00      0.00      0.00         1\n",
      "             Sales Tax And Vat       1.00      0.50      0.67         4\n",
      "                   Service Law       0.39      0.88      0.54         8\n",
      "               Succession Laws       1.00      0.50      0.67         6\n",
      "                  Tenancy Laws       0.76      0.76      0.76        17\n",
      "                 Transport Law       0.00      0.00      0.00         2\n",
      "\n",
      "                      accuracy                           0.54       179\n",
      "                     macro avg       0.29      0.24      0.25       179\n",
      "                  weighted avg       0.50      0.54      0.49       179\n",
      "\n"
     ]
    },
    {
     "name": "stderr",
     "output_type": "stream",
     "text": [
      "/anaconda3/lib/python3.7/site-packages/sklearn/metrics/classification.py:1437: UndefinedMetricWarning: Precision and F-score are ill-defined and being set to 0.0 in labels with no predicted samples.\n",
      "  'precision', 'predicted', average, warn_for)\n"
     ]
    }
   ],
   "source": [
    "print(classification_report(y_val, y_pred))"
   ]
  },
  {
   "cell_type": "code",
   "execution_count": null,
   "metadata": {},
   "outputs": [],
   "source": []
  }
 ],
 "metadata": {
  "kernelspec": {
   "display_name": "Python 3",
   "language": "python",
   "name": "python3"
  },
  "language_info": {
   "codemirror_mode": {
    "name": "ipython",
    "version": 3
   },
   "file_extension": ".py",
   "mimetype": "text/x-python",
   "name": "python",
   "nbconvert_exporter": "python",
   "pygments_lexer": "ipython3",
   "version": "3.7.1"
  }
 },
 "nbformat": 4,
 "nbformat_minor": 2
}
